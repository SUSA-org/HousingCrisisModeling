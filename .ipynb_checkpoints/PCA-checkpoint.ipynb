{
 "cells": [
  {
   "cell_type": "markdown",
   "metadata": {},
   "source": [
    "### Import Statements"
   ]
  },
  {
   "cell_type": "code",
   "execution_count": 3,
   "metadata": {
    "collapsed": true
   },
   "outputs": [],
   "source": [
    "from sklearn.decomposition import PCA\n",
    "import numpy as np\n",
    "import matplotlib.pyplot as plt"
   ]
  },
  {
   "cell_type": "markdown",
   "metadata": {},
   "source": [
    "### Import data from the folder"
   ]
  },
  {
   "cell_type": "code",
   "execution_count": null,
   "metadata": {
    "collapsed": true
   },
   "outputs": [],
   "source": [
    "data_list = []"
   ]
  },
  {
   "cell_type": "code",
   "execution_count": 31,
   "metadata": {
    "collapsed": true
   },
   "outputs": [],
   "source": [
    "counties = [\"Alameda\", \"Alpine\", \"Amador\", \"Butte\", \"Calaveras\", \"Colusa\", \"Contra.Costa\", \"Del.Norte\", \"El.Dorado\", \"Fresno\", \"Glenn\", \"Humboldt\", \"Imperial\",\n",
    "            \"Inyo\", \"Kern\", \"Kings\", \"Lake\", \"Lassen\", \"Los.Angeles\", \"Madera\", \"Marin\", \"Mariposa\", \"Mendocino\", \"Merced\", \"Modoc\", \"Mono\", \"Monterey\", \"Napa\",\n",
    "            \"Nevada\", \"Orange\", \"Placer\", \"Plumas\", \"Riverside\", \"Sacramento\", \"San.Benito\", \"San.Bernardino\", \"San.Diego\", \"San.Francisco\", \"San.Joaquin\",\n",
    "            \"San.Luis.Obispo\", \"San.Mateo\", \"Santa.Barbara\", \"Santa.Clara\", \"Santa.Cruz\", \"Shasta\", \"Sierra\", \"Siskiyou\", \"Solano\", \"Sonoma\", \"Stanislaus\",\n",
    "            \"Sutter\", \"Tehama\", \"Trinity\", \"Tulare\", \"Tuolumne\", \"Ventura\", \"Yolo\", \"Yuba\"]"
   ]
  },
  {
   "cell_type": "markdown",
   "metadata": {},
   "source": [
    "### Actual Function"
   ]
  },
  {
   "cell_type": "code",
   "execution_count": null,
   "metadata": {
    "collapsed": true
   },
   "outputs": [],
   "source": [
    "def pca_plot(month):\n",
    "    data_points = []\n",
    "    \n",
    "    ## COLLECT RELEVANT DATA FROM THE DATA_LIST\n",
    "    for county in data_list:\n",
    "        relevant_month = county[month] # row of everything including month\n",
    "        data_points += [f for f in relevant_month][1:] # get all features for the certain county without month value\n",
    "        \n",
    "    ## PCA\n",
    "    pca = PCA(n_components=2)\n",
    "    pca.fit_transform(data_points)\n",
    "    \n",
    "    ## PLOT\n",
    "    fig, ax = plt.subplots()\n",
    "    x_values = [x_y[0] for x_y in data_points]\n",
    "    y_values = [x_y[1] for x_y in data_points]\n",
    "    ax.scatter(x_values, y_values)\n",
    "    \n",
    "    for i in range(len(x_values)):\n",
    "        ax.annotate(counties[i], (x_values[i], y_values[i]))\n",
    "    plt.show()\n",
    "            "
   ]
  },
  {
   "cell_type": "code",
   "execution_count": 13,
   "metadata": {},
   "outputs": [
    {
     "data": {
      "text/plain": [
       "array([[  7.07106781e-01,   1.18606713e-17],\n",
       "       [ -7.07106781e-01,   1.18606713e-17]])"
      ]
     },
     "execution_count": 13,
     "metadata": {},
     "output_type": "execute_result"
    }
   ],
   "source": [
    "X = np.array([[3, 5, 6], [4, 5, 7]])\n",
    "pca = PCA(n_components=2)\n",
    "X = pca.fit_transform(X)\n",
    "\n",
    "\n",
    "\"\"\"\n",
    "x_values = [x_y[0] for x_y in X]\n",
    "y_values = [x_y[1] for x_y in X]\n",
    "\n",
    "fig, ax = plt.subplots()\n",
    "\n",
    "\n",
    "ax.scatter(x_values, y_values)\n",
    "\n",
    "for thing in X:\n",
    "    ax.annotate(\"cat\", (thing[0], thing[1]))\n",
    "\n",
    "\n",
    "plt.show()\n",
    "\n",
    "\"\"\"\n",
    "X\n",
    "\n",
    " "
   ]
  },
  {
   "cell_type": "code",
   "execution_count": 11,
   "metadata": {},
   "outputs": [
    {
     "data": {
      "text/plain": [
       "array([[3],\n",
       "       [5],\n",
       "       [6]])"
      ]
     },
     "execution_count": 11,
     "metadata": {},
     "output_type": "execute_result"
    }
   ],
   "source": [
    "X.reshape((-1, 1))"
   ]
  },
  {
   "cell_type": "code",
   "execution_count": null,
   "metadata": {
    "collapsed": true
   },
   "outputs": [],
   "source": [
    "[  1.00000000e+00   2.81351049e-34]\n",
    "[  1.00000000e+00   1.67735223e-17]\n"
   ]
  }
 ],
 "metadata": {
  "kernelspec": {
   "display_name": "Python 3",
   "language": "python",
   "name": "python3"
  },
  "language_info": {
   "codemirror_mode": {
    "name": "ipython",
    "version": 3
   },
   "file_extension": ".py",
   "mimetype": "text/x-python",
   "name": "python",
   "nbconvert_exporter": "python",
   "pygments_lexer": "ipython3",
   "version": "3.6.3"
  }
 },
 "nbformat": 4,
 "nbformat_minor": 2
}
